{
  "cells": [
    {
      "cell_type": "markdown",
      "metadata": {
        "id": "view-in-github",
        "colab_type": "text"
      },
      "source": [
        "<a href=\"https://colab.research.google.com/github/Cretikc/-World_Weather_Analysis-/blob/main/retail_transactions_colab.ipynb\" target=\"_parent\"><img src=\"https://colab.research.google.com/assets/colab-badge.svg\" alt=\"Open In Colab\"/></a>"
      ]
    },
    {
      "cell_type": "code",
      "execution_count": 1,
      "metadata": {
        "colab": {
          "base_uri": "https://localhost:8080/"
        },
        "id": "jgCQ-Iiae9V3",
        "outputId": "4edc9821-104e-4966-d2fa-b2b22afa61c2"
      },
      "outputs": [
        {
          "output_type": "stream",
          "name": "stdout",
          "text": [
            "Get:1 http://security.ubuntu.com/ubuntu jammy-security InRelease [129 kB]\n",
            "Hit:2 http://archive.ubuntu.com/ubuntu jammy InRelease\n",
            "Hit:3 https://developer.download.nvidia.com/compute/cuda/repos/ubuntu2204/x86_64  InRelease\n",
            "Get:4 https://cloud.r-project.org/bin/linux/ubuntu jammy-cran40/ InRelease [3,632 B]\n",
            "Get:5 http://archive.ubuntu.com/ubuntu jammy-updates InRelease [128 kB]\n",
            "Get:6 https://r2u.stat.illinois.edu/ubuntu jammy InRelease [6,555 B]\n",
            "Hit:7 https://ppa.launchpadcontent.net/deadsnakes/ppa/ubuntu jammy InRelease\n",
            "Hit:8 https://ppa.launchpadcontent.net/graphics-drivers/ppa/ubuntu jammy InRelease\n",
            "Get:9 http://archive.ubuntu.com/ubuntu jammy-backports InRelease [127 kB]\n",
            "Hit:10 https://ppa.launchpadcontent.net/ubuntugis/ppa/ubuntu jammy InRelease\n",
            "Get:11 http://security.ubuntu.com/ubuntu jammy-security/multiverse amd64 Packages [47.7 kB]\n",
            "Get:12 http://security.ubuntu.com/ubuntu jammy-security/main amd64 Packages [2,695 kB]\n",
            "Get:13 http://security.ubuntu.com/ubuntu jammy-security/restricted amd64 Packages [3,813 kB]\n",
            "Get:14 https://r2u.stat.illinois.edu/ubuntu jammy/main amd64 Packages [2,679 kB]\n",
            "Get:15 https://r2u.stat.illinois.edu/ubuntu jammy/main all Packages [8,767 kB]\n",
            "Get:16 http://archive.ubuntu.com/ubuntu jammy-updates/restricted amd64 Packages [4,028 kB]\n",
            "Get:17 http://archive.ubuntu.com/ubuntu jammy-updates/universe amd64 Packages [1,536 kB]\n",
            "Get:18 http://archive.ubuntu.com/ubuntu jammy-updates/multiverse amd64 Packages [55.7 kB]\n",
            "Get:19 http://archive.ubuntu.com/ubuntu jammy-updates/main amd64 Packages [3,035 kB]\n",
            "Get:20 http://archive.ubuntu.com/ubuntu jammy-backports/universe amd64 Packages [35.2 kB]\n",
            "Get:21 http://archive.ubuntu.com/ubuntu jammy-backports/main amd64 Packages [82.7 kB]\n",
            "Fetched 27.2 MB in 13s (2,164 kB/s)\n",
            "Reading package lists... Done\n",
            "W: Skipping acquire of configured file 'main/source/Sources' as repository 'https://r2u.stat.illinois.edu/ubuntu jammy InRelease' does not seem to provide it (sources.list entry misspelt?)\n"
          ]
        }
      ],
      "source": [
        "import os\n",
        "# Find the latest version of spark 3.x  from https://downloads.apache.org/spark/ and enter as the spark version\n",
        "# For example:\n",
        "# spark_version = 'spark-3.5.5'\n",
        "spark_version = 'spark-3.5.5'\n",
        "os.environ['SPARK_VERSION']=spark_version\n",
        "\n",
        "# Install Spark and Java\n",
        "!apt-get update\n",
        "!apt-get install openjdk-11-jdk-headless -qq > /dev/null\n",
        "!wget -q https://downloads.apache.org/spark/$SPARK_VERSION/$SPARK_VERSION-bin-hadoop3.tgz\n",
        "!tar xf $SPARK_VERSION-bin-hadoop3.tgz\n",
        "!pip install -q findspark\n",
        "\n",
        "# Set Environment Variables\n",
        "os.environ[\"JAVA_HOME\"] = \"/usr/lib/jvm/java-11-openjdk-amd64\"\n",
        "os.environ[\"SPARK_HOME\"] = f\"/content/{spark_version}-bin-hadoop3\"\n",
        "\n",
        "# Start a SparkSession\n",
        "import findspark\n",
        "findspark.init()\n"
      ]
    },
    {
      "cell_type": "code",
      "execution_count": 2,
      "metadata": {
        "id": "iyS6M8jxfjqO"
      },
      "outputs": [],
      "source": [
        "# Start Spark session\n",
        "from pyspark.sql import SparkSession\n",
        "spark = SparkSession.builder.appName(\"Retail Transactions\").getOrCreate()\n"
      ]
    },
    {
      "cell_type": "code",
      "execution_count": 3,
      "metadata": {
        "colab": {
          "base_uri": "https://localhost:8080/"
        },
        "id": "azmN3W3UgATw",
        "outputId": "376d7bcb-0655-4ab3-cc16-9482e3097bed"
      },
      "outputs": [
        {
          "output_type": "stream",
          "name": "stdout",
          "text": [
            "+-----------+----------------+------------------+\n",
            "|customer_id|transaction_date|transaction_amount|\n",
            "+-----------+----------------+------------------+\n",
            "|     CS5295|       11-Feb-13|                35|\n",
            "|     CS4768|       15-Mar-15|                39|\n",
            "|     CS2122|       26-Feb-13|                52|\n",
            "|     CS1217|       16-Nov-11|                99|\n",
            "|     CS1850|       20-Nov-13|                78|\n",
            "|     CS5539|       26-Mar-14|                81|\n",
            "|     CS2724|       06-Feb-12|                93|\n",
            "|     CS5902|       30-Jan-15|                89|\n",
            "|     CS6040|       08-Jan-13|                76|\n",
            "|     CS3802|       20-Aug-13|                75|\n",
            "|     CS3494|       02-Jul-13|                94|\n",
            "|     CS3780|       25-Mar-13|                80|\n",
            "|     CS1171|       03-Nov-12|                59|\n",
            "|     CS2892|       12-May-13|                43|\n",
            "|     CS5552|       29-Dec-14|                78|\n",
            "|     CS6043|       15-Jan-14|                98|\n",
            "|     CS4147|       08-Jul-13|                81|\n",
            "|     CS4655|       30-Dec-13|                93|\n",
            "|     CS3904|       20-Jul-14|               103|\n",
            "|     CS4102|       09-Jul-11|                96|\n",
            "+-----------+----------------+------------------+\n",
            "only showing top 20 rows\n",
            "\n"
          ]
        }
      ],
      "source": [
        "# Read in data from S3 Buckets\n",
        "from pyspark import SparkFiles\n",
        "url = \"https://2u-data-curriculum-team.s3.amazonaws.com/dataviz-classroom/v1.2/22-big-data/2/retail_transactions.csv\"\n",
        "spark.sparkContext.addFile(url)\n",
        "df = spark.read.csv(SparkFiles.get(\"retail_transactions.csv\"), sep=\",\", header=True)\n",
        "\n",
        "# Show DataFrame\n",
        "df.show()\n"
      ]
    },
    {
      "cell_type": "code",
      "execution_count": 4,
      "metadata": {
        "id": "93GVMklb2J8F"
      },
      "outputs": [],
      "source": [
        "# Convert the \"transaction_amount\" column from the string type to the `float` type.\n",
        "Updatedamount = df.withColumn(\"transaction_amount\", df[\"transaction_amount\"].cast('float'))"
      ]
    },
    {
      "cell_type": "code",
      "execution_count": 5,
      "metadata": {
        "colab": {
          "base_uri": "https://localhost:8080/"
        },
        "id": "GWI53_992QUs",
        "outputId": "9cbcaf79-56bd-4c7e-ab3b-43ceb0293fd8"
      },
      "outputs": [
        {
          "output_type": "stream",
          "name": "stdout",
          "text": [
            "+-----------+-----------------------+\n",
            "|customer_id|avg(transaction_amount)|\n",
            "+-----------+-----------------------+\n",
            "|     CS6001|      69.57894736842105|\n",
            "|     CS3128|                   64.0|\n",
            "|     CS5241|      64.05263157894737|\n",
            "|     CS3155|                  74.32|\n",
            "|     CS2754|      74.45454545454545|\n",
            "|     CS3950|      65.73684210526316|\n",
            "|     CS5130|                  66.64|\n",
            "|     CS3935|      67.34782608695652|\n",
            "|     CS3083|      62.88235294117647|\n",
            "|     CS3587|      69.80952380952381|\n",
            "|     CS2282|      69.14285714285714|\n",
            "|     CS1664|                  78.16|\n",
            "|     CS1802|      70.85185185185185|\n",
            "|     CS2412|                  67.75|\n",
            "|     CS4335|                   66.0|\n",
            "|     CS3997|      69.63157894736842|\n",
            "|     CS4915|                   67.0|\n",
            "|     CS3993|                  69.25|\n",
            "|     CS2811|      65.29411764705883|\n",
            "|     CS6062|      64.33333333333333|\n",
            "+-----------+-----------------------+\n",
            "only showing top 20 rows\n",
            "\n"
          ]
        }
      ],
      "source": [
        "# Find the average \"transaction_amount\" value by grouping by \"customer_id\" value.\n",
        "Updatedamount.groupBy('customer_id').avg().show()"
      ]
    },
    {
      "cell_type": "code",
      "execution_count": 7,
      "metadata": {
        "colab": {
          "base_uri": "https://localhost:8080/"
        },
        "id": "zpzZQn4R2VT1",
        "outputId": "ce3b487e-2dc6-451d-deb6-6e1d141cea03"
      },
      "outputs": [
        {
          "output_type": "stream",
          "name": "stdout",
          "text": [
            "+-----------+-----------------------+\n",
            "|customer_id|max(transaction_amount)|\n",
            "+-----------+-----------------------+\n",
            "|     CS6001|                  105.0|\n",
            "|     CS3128|                  100.0|\n",
            "|     CS5241|                   94.0|\n",
            "|     CS3155|                  105.0|\n",
            "|     CS2754|                  104.0|\n",
            "|     CS3950|                  105.0|\n",
            "|     CS5130|                  104.0|\n",
            "|     CS3935|                  104.0|\n",
            "|     CS3083|                   94.0|\n",
            "|     CS3587|                  105.0|\n",
            "|     CS2282|                   97.0|\n",
            "|     CS1664|                  105.0|\n",
            "|     CS1802|                  104.0|\n",
            "|     CS2412|                  102.0|\n",
            "|     CS4335|                   96.0|\n",
            "|     CS3997|                   99.0|\n",
            "|     CS4915|                  102.0|\n",
            "|     CS3993|                  103.0|\n",
            "|     CS2811|                   96.0|\n",
            "|     CS6062|                  100.0|\n",
            "+-----------+-----------------------+\n",
            "only showing top 20 rows\n",
            "\n"
          ]
        }
      ],
      "source": [
        "# Find the maximum \"transaction_amount\" value per customer by grouping by \"customer_id\" value.\n",
        "Updatedamount.groupBy('customer_id').max().show()"
      ]
    },
    {
      "cell_type": "code",
      "execution_count": 8,
      "metadata": {
        "colab": {
          "base_uri": "https://localhost:8080/"
        },
        "id": "aNRVy0712etO",
        "outputId": "474c766b-23ba-45d2-a38f-51d869769e21"
      },
      "outputs": [
        {
          "output_type": "stream",
          "name": "stdout",
          "text": [
            "+-----------+-----------------------+\n",
            "|customer_id|sum(transaction_amount)|\n",
            "+-----------+-----------------------+\n",
            "|     CS6001|                 1322.0|\n",
            "|     CS3128|                 1472.0|\n",
            "|     CS5241|                 1217.0|\n",
            "|     CS3155|                 1858.0|\n",
            "|     CS2754|                 1638.0|\n",
            "|     CS3950|                 1249.0|\n",
            "|     CS5130|                 1666.0|\n",
            "|     CS3935|                 1549.0|\n",
            "|     CS3083|                 1069.0|\n",
            "|     CS3587|                 1466.0|\n",
            "|     CS2282|                 1452.0|\n",
            "|     CS1664|                 1954.0|\n",
            "|     CS1802|                 1913.0|\n",
            "|     CS2412|                 1084.0|\n",
            "|     CS4335|                  660.0|\n",
            "|     CS3997|                 1323.0|\n",
            "|     CS4915|                 1541.0|\n",
            "|     CS3993|                 1385.0|\n",
            "|     CS2811|                 1110.0|\n",
            "|     CS6062|                  772.0|\n",
            "+-----------+-----------------------+\n",
            "only showing top 20 rows\n",
            "\n"
          ]
        }
      ],
      "source": [
        "# Find the sum of the \"transaction_amount\" values per customer by grouping by \"customer_id\" value.\n",
        "Updatedamount.groupBy('customer_id').sum().show()"
      ]
    },
    {
      "cell_type": "code",
      "execution_count": 9,
      "metadata": {
        "colab": {
          "base_uri": "https://localhost:8080/"
        },
        "id": "6XO6Zvhf2jaN",
        "outputId": "04d4b333-7af4-48fb-c711-e9ad13ebd01b"
      },
      "outputs": [
        {
          "output_type": "stream",
          "name": "stdout",
          "text": [
            "+----------------+-----------------------+\n",
            "|transaction_date|avg(transaction_amount)|\n",
            "+----------------+-----------------------+\n",
            "|       01-Feb-15|      62.19277108433735|\n",
            "|       20-Feb-12|      66.10344827586206|\n",
            "|       22-Jul-12|                   67.0|\n",
            "|       17-Jan-15|      62.89655172413793|\n",
            "|       28-Aug-11|      63.70754716981132|\n",
            "|       29-Jul-12|                   64.7|\n",
            "|       17-Jan-14|                   62.3|\n",
            "|       12-Jun-13|      68.32530120481928|\n",
            "|       23-Oct-12|      65.56666666666666|\n",
            "|       02-Nov-12|      65.55445544554455|\n",
            "|       06-Mar-14|       64.3529411764706|\n",
            "|       11-Sep-12|      68.19540229885058|\n",
            "|       29-Dec-13|      67.68656716417911|\n",
            "|       14-Feb-13|     63.857142857142854|\n",
            "|       18-Aug-13|       67.5764705882353|\n",
            "|       09-Jan-14|      67.68888888888888|\n",
            "|       28-May-11|      72.83720930232558|\n",
            "|       26-Oct-13|      66.19354838709677|\n",
            "|       21-Nov-11|      65.57142857142857|\n",
            "|       12-Feb-13|                   64.5|\n",
            "+----------------+-----------------------+\n",
            "only showing top 20 rows\n",
            "\n"
          ]
        }
      ],
      "source": [
        "# Find the average \"transaction_amount\" value per \"transaction_date\" value.\n",
        "Updatedamount.groupBy('transaction_date').avg().show()"
      ]
    },
    {
      "cell_type": "code",
      "execution_count": 10,
      "metadata": {
        "colab": {
          "base_uri": "https://localhost:8080/"
        },
        "id": "gWnvAAG425B9",
        "outputId": "cfc4dcab-01f1-464f-a67b-a2079965b076"
      },
      "outputs": [
        {
          "output_type": "stream",
          "name": "stdout",
          "text": [
            "+----------------+-----------------------+\n",
            "|transaction_date|sum(transaction_amount)|\n",
            "+----------------+-----------------------+\n",
            "|       01-Feb-15|                 5162.0|\n",
            "|       20-Feb-12|                 5751.0|\n",
            "|       22-Jul-12|                 6164.0|\n",
            "|       17-Jan-15|                 3648.0|\n",
            "|       28-Aug-11|                 6753.0|\n",
            "|       29-Jul-12|                 5176.0|\n",
            "|       17-Jan-14|                 4361.0|\n",
            "|       12-Jun-13|                 5671.0|\n",
            "|       23-Oct-12|                 5901.0|\n",
            "|       02-Nov-12|                 6621.0|\n",
            "|       06-Mar-14|                 5470.0|\n",
            "|       11-Sep-12|                 5933.0|\n",
            "|       29-Dec-13|                 4535.0|\n",
            "|       14-Feb-13|                 4470.0|\n",
            "|       18-Aug-13|                 5744.0|\n",
            "|       09-Jan-14|                 6092.0|\n",
            "|       28-May-11|                 6264.0|\n",
            "|       26-Oct-13|                 6156.0|\n",
            "|       21-Nov-11|                 5508.0|\n",
            "|       12-Feb-13|                 4902.0|\n",
            "+----------------+-----------------------+\n",
            "only showing top 20 rows\n",
            "\n"
          ]
        }
      ],
      "source": [
        "# Find the sum of \"transaction_amount\" values per \"transaction_date\" value.\n",
        "Updatedamount.groupBy('transaction_date').sum().show()"
      ]
    },
    {
      "cell_type": "code",
      "execution_count": 11,
      "metadata": {
        "colab": {
          "base_uri": "https://localhost:8080/"
        },
        "id": "VX7UfA-G246l",
        "outputId": "e531a79a-fcaf-4c53-ed0d-c6f55ad8d13a"
      },
      "outputs": [
        {
          "output_type": "stream",
          "name": "stdout",
          "text": [
            "+----------------+-----------------------+\n",
            "|transaction_date|max(transaction_amount)|\n",
            "+----------------+-----------------------+\n",
            "|       01-Feb-15|                  105.0|\n",
            "|       20-Feb-12|                  105.0|\n",
            "|       22-Jul-12|                  105.0|\n",
            "|       17-Jan-15|                  105.0|\n",
            "|       28-Aug-11|                  105.0|\n",
            "|       29-Jul-12|                  104.0|\n",
            "|       17-Jan-14|                  104.0|\n",
            "|       12-Jun-13|                  105.0|\n",
            "|       23-Oct-12|                  105.0|\n",
            "|       02-Nov-12|                  105.0|\n",
            "|       06-Mar-14|                  105.0|\n",
            "|       11-Sep-12|                  105.0|\n",
            "|       29-Dec-13|                  105.0|\n",
            "|       14-Feb-13|                  103.0|\n",
            "|       18-Aug-13|                  105.0|\n",
            "|       09-Jan-14|                  105.0|\n",
            "|       28-May-11|                  105.0|\n",
            "|       26-Oct-13|                  105.0|\n",
            "|       21-Nov-11|                  105.0|\n",
            "|       12-Feb-13|                  105.0|\n",
            "+----------------+-----------------------+\n",
            "only showing top 20 rows\n",
            "\n"
          ]
        }
      ],
      "source": [
        "# Find the maximum \"transaction_amount\" value per \"transaction_date\" value.\n",
        "Updatedamount.groupBy('transaction_date').max().show()"
      ]
    },
    {
      "cell_type": "code",
      "execution_count": null,
      "metadata": {
        "id": "brzQq-FEL1kD"
      },
      "outputs": [],
      "source": []
    }
  ],
  "metadata": {
    "colab": {
      "provenance": [],
      "include_colab_link": true
    },
    "kernelspec": {
      "display_name": "Python 3 (ipykernel)",
      "language": "python",
      "name": "python3"
    },
    "language_info": {
      "codemirror_mode": {
        "name": "ipython",
        "version": 3
      },
      "file_extension": ".py",
      "mimetype": "text/x-python",
      "name": "python",
      "nbconvert_exporter": "python",
      "pygments_lexer": "ipython3",
      "version": "3.10.4"
    },
    "vscode": {
      "interpreter": {
        "hash": "aee8b7b246df8f9039afb4144a1f6fd8d2ca17a180786b69acc140d282b71a49"
      }
    }
  },
  "nbformat": 4,
  "nbformat_minor": 0
}